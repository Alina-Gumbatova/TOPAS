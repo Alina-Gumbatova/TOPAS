{
 "cells": [
  {
   "attachments": {},
   "cell_type": "markdown",
   "id": "b3470a0a",
   "metadata": {},
   "source": [
    "# Исследование различных материалов коллиматора для протонного пучка с точки зрения образования вторичных частиц (нейтронов)"
   ]
  },
  {
   "cell_type": "code",
   "execution_count": 1,
   "id": "55531fb8",
   "metadata": {},
   "outputs": [],
   "source": [
    "import pandas as pd"
   ]
  },
  {
   "cell_type": "code",
   "execution_count": 2,
   "id": "71df822c",
   "metadata": {},
   "outputs": [],
   "source": [
    "import seaborn"
   ]
  },
  {
   "cell_type": "markdown",
   "id": "ad58d488",
   "metadata": {},
   "source": [
    "## 1. Зависимость числа образующихся нейтронов от числа протонов"
   ]
  },
  {
   "cell_type": "markdown",
   "id": "7cfa4aec",
   "metadata": {},
   "source": [
    "Параметры исходной модели (выбраны на основе статьи [Monte Carlo Comparison of Proton and Helium-ion Minibeam Generation Techniques](https://www.frontiersin.org/articles/10.3389/fphy.2021.595721/full)):\n",
    "\n",
    "    1. Энергия пучка протонов: 100 MeV\n",
    "    2. Материал коллиматора: латунь\n",
    "    3. Толщина коллиматора: 6.5 см"
   ]
  },
  {
   "cell_type": "markdown",
   "id": "04a25487",
   "metadata": {},
   "source": [
    "Пример визуализации исходной модели для пучка протонов, состоящего из 100 частиц:"
   ]
  },
  {
   "cell_type": "markdown",
   "id": "6740ae7c",
   "metadata": {},
   "source": [
    "<img src=\"Brass_6.5cm_100p_100MeV.JPG\" style=\"width:400px; height:300px\"/>"
   ]
  },
  {
   "cell_type": "markdown",
   "id": "5dfac3a5",
   "metadata": {},
   "source": [
    "Пример визуализации исходной модели для пучка протонов, состоящего из 1000 частиц:"
   ]
  },
  {
   "cell_type": "markdown",
   "id": "865edeb2",
   "metadata": {},
   "source": [
    "<img src=\"Brass_6.5cm_1000p_100MeV.JPG\" style=\"width:400px; height:300px\"/>"
   ]
  },
  {
   "cell_type": "markdown",
   "id": "afb20203",
   "metadata": {},
   "source": [
    "Обозначение треков частиц:"
   ]
  },
  {
   "cell_type": "markdown",
   "id": "f2081943",
   "metadata": {},
   "source": [
    "<img src=\"Color.JPG\" style=\"width:300px; height:300px\"/>"
   ]
  },
  {
   "cell_type": "code",
   "execution_count": 3,
   "id": "7ae377b7",
   "metadata": {},
   "outputs": [],
   "source": [
    "df_1 = pd.read_excel('proton_beam.xlsx', sheet_name='Лист1')"
   ]
  },
  {
   "cell_type": "code",
   "execution_count": 4,
   "id": "7420c350",
   "metadata": {},
   "outputs": [
    {
     "data": {
      "text/html": [
       "<div>\n",
       "<style scoped>\n",
       "    .dataframe tbody tr th:only-of-type {\n",
       "        vertical-align: middle;\n",
       "    }\n",
       "\n",
       "    .dataframe tbody tr th {\n",
       "        vertical-align: top;\n",
       "    }\n",
       "\n",
       "    .dataframe thead th {\n",
       "        text-align: right;\n",
       "    }\n",
       "</style>\n",
       "<table border=\"1\" class=\"dataframe\">\n",
       "  <thead>\n",
       "    <tr style=\"text-align: right;\">\n",
       "      <th></th>\n",
       "      <th>Число протонов</th>\n",
       "      <th>Число нейтронов</th>\n",
       "    </tr>\n",
       "  </thead>\n",
       "  <tbody>\n",
       "    <tr>\n",
       "      <th>0</th>\n",
       "      <td>10</td>\n",
       "      <td>3</td>\n",
       "    </tr>\n",
       "    <tr>\n",
       "      <th>1</th>\n",
       "      <td>100</td>\n",
       "      <td>20</td>\n",
       "    </tr>\n",
       "    <tr>\n",
       "      <th>2</th>\n",
       "      <td>1000</td>\n",
       "      <td>252</td>\n",
       "    </tr>\n",
       "    <tr>\n",
       "      <th>3</th>\n",
       "      <td>10000</td>\n",
       "      <td>2737</td>\n",
       "    </tr>\n",
       "    <tr>\n",
       "      <th>4</th>\n",
       "      <td>100000</td>\n",
       "      <td>25510</td>\n",
       "    </tr>\n",
       "  </tbody>\n",
       "</table>\n",
       "</div>"
      ],
      "text/plain": [
       "   Число протонов  Число нейтронов\n",
       "0              10                3\n",
       "1             100               20\n",
       "2            1000              252\n",
       "3           10000             2737\n",
       "4          100000            25510"
      ]
     },
     "metadata": {},
     "output_type": "display_data"
    }
   ],
   "source": [
    "display(df_1)"
   ]
  },
  {
   "cell_type": "code",
   "execution_count": 5,
   "id": "4b50042f",
   "metadata": {},
   "outputs": [
    {
     "name": "stdout",
     "output_type": "stream",
     "text": [
      "<class 'pandas.core.frame.DataFrame'>\n",
      "RangeIndex: 5 entries, 0 to 4\n",
      "Data columns (total 2 columns):\n",
      " #   Column           Non-Null Count  Dtype\n",
      "---  ------           --------------  -----\n",
      " 0   Число протонов   5 non-null      int64\n",
      " 1   Число нейтронов  5 non-null      int64\n",
      "dtypes: int64(2)\n",
      "memory usage: 208.0 bytes\n"
     ]
    }
   ],
   "source": [
    "df_1.info()"
   ]
  },
  {
   "cell_type": "code",
   "execution_count": 6,
   "id": "7e3df2dc",
   "metadata": {},
   "outputs": [],
   "source": [
    "df_1['ratio'] = df_1['Число нейтронов'] / df_1['Число протонов']"
   ]
  },
  {
   "cell_type": "code",
   "execution_count": 7,
   "id": "c6380996",
   "metadata": {},
   "outputs": [
    {
     "data": {
      "text/html": [
       "<div>\n",
       "<style scoped>\n",
       "    .dataframe tbody tr th:only-of-type {\n",
       "        vertical-align: middle;\n",
       "    }\n",
       "\n",
       "    .dataframe tbody tr th {\n",
       "        vertical-align: top;\n",
       "    }\n",
       "\n",
       "    .dataframe thead th {\n",
       "        text-align: right;\n",
       "    }\n",
       "</style>\n",
       "<table border=\"1\" class=\"dataframe\">\n",
       "  <thead>\n",
       "    <tr style=\"text-align: right;\">\n",
       "      <th></th>\n",
       "      <th>Число протонов</th>\n",
       "      <th>Число нейтронов</th>\n",
       "      <th>ratio</th>\n",
       "    </tr>\n",
       "  </thead>\n",
       "  <tbody>\n",
       "    <tr>\n",
       "      <th>0</th>\n",
       "      <td>10</td>\n",
       "      <td>3</td>\n",
       "      <td>0.3000</td>\n",
       "    </tr>\n",
       "    <tr>\n",
       "      <th>1</th>\n",
       "      <td>100</td>\n",
       "      <td>20</td>\n",
       "      <td>0.2000</td>\n",
       "    </tr>\n",
       "    <tr>\n",
       "      <th>2</th>\n",
       "      <td>1000</td>\n",
       "      <td>252</td>\n",
       "      <td>0.2520</td>\n",
       "    </tr>\n",
       "    <tr>\n",
       "      <th>3</th>\n",
       "      <td>10000</td>\n",
       "      <td>2737</td>\n",
       "      <td>0.2737</td>\n",
       "    </tr>\n",
       "    <tr>\n",
       "      <th>4</th>\n",
       "      <td>100000</td>\n",
       "      <td>25510</td>\n",
       "      <td>0.2551</td>\n",
       "    </tr>\n",
       "  </tbody>\n",
       "</table>\n",
       "</div>"
      ],
      "text/plain": [
       "   Число протонов  Число нейтронов   ratio\n",
       "0              10                3  0.3000\n",
       "1             100               20  0.2000\n",
       "2            1000              252  0.2520\n",
       "3           10000             2737  0.2737\n",
       "4          100000            25510  0.2551"
      ]
     },
     "execution_count": 7,
     "metadata": {},
     "output_type": "execute_result"
    }
   ],
   "source": [
    "df_1"
   ]
  },
  {
   "cell_type": "code",
   "execution_count": 8,
   "id": "1061af72",
   "metadata": {
    "scrolled": true
   },
   "outputs": [
    {
     "data": {
      "text/plain": [
       "<AxesSubplot:xlabel='Число протонов', ylabel='ratio'>"
      ]
     },
     "execution_count": 8,
     "metadata": {},
     "output_type": "execute_result"
    },
    {
     "data": {
      "image/png": "[encoded data removed]",
      "text/plain": [
       "<Figure size 432x288 with 1 Axes>"
      ]
     },
     "metadata": {
      "needs_background": "light"
     },
     "output_type": "display_data"
    }
   ],
   "source": [
    "seaborn.barplot(x=df_1['Число протонов'], y=df_1['ratio'])"
   ]
  },
  {
   "cell_type": "markdown",
   "id": "82a3cede",
   "metadata": {},
   "source": [
    "Далее моделирование проводилось для 1000 протонов, т.к. это ускоряет процесс вычислений и, исходя из графика выше, такой статистики достаточно для приблизительной вполне корректной оценки результатов. По сравнению со статистикой 100000, ошибка результатов для выбранной статистики составляет примерно 1.31 %."
   ]
  },
  {
   "cell_type": "markdown",
   "id": "f1086f8b",
   "metadata": {},
   "source": [
    "## 2. Исследование зависимости числа образующихся нейтронов от энергии пучка протонов"
   ]
  },
  {
   "cell_type": "code",
   "execution_count": 9,
   "id": "15922e41",
   "metadata": {},
   "outputs": [],
   "source": [
    "df_2 = pd.read_excel('proton_beam.xlsx', sheet_name='Лист2')"
   ]
  },
  {
   "cell_type": "code",
   "execution_count": 10,
   "id": "d1b547e1",
   "metadata": {},
   "outputs": [
    {
     "data": {
      "text/html": [
       "<div>\n",
       "<style scoped>\n",
       "    .dataframe tbody tr th:only-of-type {\n",
       "        vertical-align: middle;\n",
       "    }\n",
       "\n",
       "    .dataframe tbody tr th {\n",
       "        vertical-align: top;\n",
       "    }\n",
       "\n",
       "    .dataframe thead th {\n",
       "        text-align: right;\n",
       "    }\n",
       "</style>\n",
       "<table border=\"1\" class=\"dataframe\">\n",
       "  <thead>\n",
       "    <tr style=\"text-align: right;\">\n",
       "      <th></th>\n",
       "      <th>Энергия протонов, MeV</th>\n",
       "      <th>Число нейтронов</th>\n",
       "    </tr>\n",
       "  </thead>\n",
       "  <tbody>\n",
       "    <tr>\n",
       "      <th>0</th>\n",
       "      <td>50</td>\n",
       "      <td>72</td>\n",
       "    </tr>\n",
       "    <tr>\n",
       "      <th>1</th>\n",
       "      <td>100</td>\n",
       "      <td>252</td>\n",
       "    </tr>\n",
       "    <tr>\n",
       "      <th>2</th>\n",
       "      <td>150</td>\n",
       "      <td>692</td>\n",
       "    </tr>\n",
       "    <tr>\n",
       "      <th>3</th>\n",
       "      <td>200</td>\n",
       "      <td>1252</td>\n",
       "    </tr>\n",
       "    <tr>\n",
       "      <th>4</th>\n",
       "      <td>250</td>\n",
       "      <td>2050</td>\n",
       "    </tr>\n",
       "  </tbody>\n",
       "</table>\n",
       "</div>"
      ],
      "text/plain": [
       "   Энергия протонов, MeV  Число нейтронов\n",
       "0                     50               72\n",
       "1                    100              252\n",
       "2                    150              692\n",
       "3                    200             1252\n",
       "4                    250             2050"
      ]
     },
     "metadata": {},
     "output_type": "display_data"
    }
   ],
   "source": [
    "display(df_2)"
   ]
  },
  {
   "cell_type": "code",
   "execution_count": 11,
   "id": "7704a88e",
   "metadata": {},
   "outputs": [
    {
     "name": "stdout",
     "output_type": "stream",
     "text": [
      "<class 'pandas.core.frame.DataFrame'>\n",
      "RangeIndex: 5 entries, 0 to 4\n",
      "Data columns (total 2 columns):\n",
      " #   Column                 Non-Null Count  Dtype\n",
      "---  ------                 --------------  -----\n",
      " 0   Энергия протонов, MeV  5 non-null      int64\n",
      " 1   Число нейтронов        5 non-null      int64\n",
      "dtypes: int64(2)\n",
      "memory usage: 208.0 bytes\n"
     ]
    }
   ],
   "source": [
    "df_2.info()"
   ]
  },
  {
   "cell_type": "code",
   "execution_count": 12,
   "id": "30848d25",
   "metadata": {
    "scrolled": true
   },
   "outputs": [
    {
     "data": {
      "text/plain": [
       "<AxesSubplot:xlabel='Энергия протонов, MeV', ylabel='Число нейтронов'>"
      ]
     },
     "execution_count": 12,
     "metadata": {},
     "output_type": "execute_result"
    },
    {
     "data": {
      "image/png": "[encoded data removed]",
      "text/plain": [
       "<Figure size 432x288 with 1 Axes>"
      ]
     },
     "metadata": {
      "needs_background": "light"
     },
     "output_type": "display_data"
    }
   ],
   "source": [
    "seaborn.barplot(x=df_2['Энергия протонов, MeV'], y=df_2['Число нейтронов'])"
   ]
  },
  {
   "cell_type": "markdown",
   "id": "fa99d400",
   "metadata": {},
   "source": [
    "## 3. Исследование зависимости числа образующихся нейтронов от толщины коллиматора"
   ]
  },
  {
   "cell_type": "code",
   "execution_count": 13,
   "id": "197b550f",
   "metadata": {},
   "outputs": [],
   "source": [
    "df_3 = pd.read_excel('proton_beam.xlsx', sheet_name='Лист3')"
   ]
  },
  {
   "cell_type": "code",
   "execution_count": 14,
   "id": "253cfa14",
   "metadata": {},
   "outputs": [
    {
     "data": {
      "text/html": [
       "<div>\n",
       "<style scoped>\n",
       "    .dataframe tbody tr th:only-of-type {\n",
       "        vertical-align: middle;\n",
       "    }\n",
       "\n",
       "    .dataframe tbody tr th {\n",
       "        vertical-align: top;\n",
       "    }\n",
       "\n",
       "    .dataframe thead th {\n",
       "        text-align: right;\n",
       "    }\n",
       "</style>\n",
       "<table border=\"1\" class=\"dataframe\">\n",
       "  <thead>\n",
       "    <tr style=\"text-align: right;\">\n",
       "      <th></th>\n",
       "      <th>Толщина коллиматора, см</th>\n",
       "      <th>Число нейтронов</th>\n",
       "    </tr>\n",
       "  </thead>\n",
       "  <tbody>\n",
       "    <tr>\n",
       "      <th>0</th>\n",
       "      <td>1</td>\n",
       "      <td>190</td>\n",
       "    </tr>\n",
       "    <tr>\n",
       "      <th>1</th>\n",
       "      <td>2</td>\n",
       "      <td>180</td>\n",
       "    </tr>\n",
       "    <tr>\n",
       "      <th>2</th>\n",
       "      <td>3</td>\n",
       "      <td>228</td>\n",
       "    </tr>\n",
       "    <tr>\n",
       "      <th>3</th>\n",
       "      <td>4</td>\n",
       "      <td>220</td>\n",
       "    </tr>\n",
       "    <tr>\n",
       "      <th>4</th>\n",
       "      <td>5</td>\n",
       "      <td>224</td>\n",
       "    </tr>\n",
       "    <tr>\n",
       "      <th>5</th>\n",
       "      <td>6</td>\n",
       "      <td>256</td>\n",
       "    </tr>\n",
       "    <tr>\n",
       "      <th>6</th>\n",
       "      <td>7</td>\n",
       "      <td>275</td>\n",
       "    </tr>\n",
       "    <tr>\n",
       "      <th>7</th>\n",
       "      <td>8</td>\n",
       "      <td>264</td>\n",
       "    </tr>\n",
       "    <tr>\n",
       "      <th>8</th>\n",
       "      <td>9</td>\n",
       "      <td>285</td>\n",
       "    </tr>\n",
       "    <tr>\n",
       "      <th>9</th>\n",
       "      <td>10</td>\n",
       "      <td>315</td>\n",
       "    </tr>\n",
       "  </tbody>\n",
       "</table>\n",
       "</div>"
      ],
      "text/plain": [
       "   Толщина коллиматора, см  Число нейтронов\n",
       "0                        1              190\n",
       "1                        2              180\n",
       "2                        3              228\n",
       "3                        4              220\n",
       "4                        5              224\n",
       "5                        6              256\n",
       "6                        7              275\n",
       "7                        8              264\n",
       "8                        9              285\n",
       "9                       10              315"
      ]
     },
     "execution_count": 14,
     "metadata": {},
     "output_type": "execute_result"
    }
   ],
   "source": [
    "df_3"
   ]
  },
  {
   "cell_type": "code",
   "execution_count": 15,
   "id": "c00428bd",
   "metadata": {},
   "outputs": [
    {
     "name": "stdout",
     "output_type": "stream",
     "text": [
      "<class 'pandas.core.frame.DataFrame'>\n",
      "RangeIndex: 10 entries, 0 to 9\n",
      "Data columns (total 2 columns):\n",
      " #   Column                   Non-Null Count  Dtype\n",
      "---  ------                   --------------  -----\n",
      " 0   Толщина коллиматора, см  10 non-null     int64\n",
      " 1   Число нейтронов          10 non-null     int64\n",
      "dtypes: int64(2)\n",
      "memory usage: 288.0 bytes\n"
     ]
    }
   ],
   "source": [
    "df_3.info()"
   ]
  },
  {
   "cell_type": "code",
   "execution_count": 16,
   "id": "427c6610",
   "metadata": {
    "scrolled": true
   },
   "outputs": [
    {
     "data": {
      "text/plain": [
       "<AxesSubplot:xlabel='Толщина коллиматора, см', ylabel='Число нейтронов'>"
      ]
     },
     "execution_count": 16,
     "metadata": {},
     "output_type": "execute_result"
    },
    {
     "data": {
      "image/png": "[encoded data removed]",
      "text/plain": [
       "<Figure size 432x288 with 1 Axes>"
      ]
     },
     "metadata": {
      "needs_background": "light"
     },
     "output_type": "display_data"
    }
   ],
   "source": [
    "seaborn.barplot(x=df_3['Толщина коллиматора, см'], y=df_3['Число нейтронов'])"
   ]
  },
  {
   "cell_type": "code",
   "execution_count": 17,
   "id": "8dedc2bf",
   "metadata": {},
   "outputs": [],
   "source": [
    "df_4 = pd.read_excel('proton_beam.xlsx', sheet_name='Лист4')"
   ]
  },
  {
   "cell_type": "code",
   "execution_count": 18,
   "id": "bcd65688",
   "metadata": {},
   "outputs": [
    {
     "data": {
      "text/html": [
       "<div>\n",
       "<style scoped>\n",
       "    .dataframe tbody tr th:only-of-type {\n",
       "        vertical-align: middle;\n",
       "    }\n",
       "\n",
       "    .dataframe tbody tr th {\n",
       "        vertical-align: top;\n",
       "    }\n",
       "\n",
       "    .dataframe thead th {\n",
       "        text-align: right;\n",
       "    }\n",
       "</style>\n",
       "<table border=\"1\" class=\"dataframe\">\n",
       "  <thead>\n",
       "    <tr style=\"text-align: right;\">\n",
       "      <th></th>\n",
       "      <th>Толщина коллиматора, см</th>\n",
       "      <th>Число нейтронов</th>\n",
       "    </tr>\n",
       "  </thead>\n",
       "  <tbody>\n",
       "    <tr>\n",
       "      <th>0</th>\n",
       "      <td>0.01</td>\n",
       "      <td>11</td>\n",
       "    </tr>\n",
       "    <tr>\n",
       "      <th>1</th>\n",
       "      <td>0.10</td>\n",
       "      <td>42</td>\n",
       "    </tr>\n",
       "    <tr>\n",
       "      <th>2</th>\n",
       "      <td>1.00</td>\n",
       "      <td>190</td>\n",
       "    </tr>\n",
       "    <tr>\n",
       "      <th>3</th>\n",
       "      <td>10.00</td>\n",
       "      <td>315</td>\n",
       "    </tr>\n",
       "    <tr>\n",
       "      <th>4</th>\n",
       "      <td>100.00</td>\n",
       "      <td>302</td>\n",
       "    </tr>\n",
       "  </tbody>\n",
       "</table>\n",
       "</div>"
      ],
      "text/plain": [
       "   Толщина коллиматора, см  Число нейтронов\n",
       "0                     0.01               11\n",
       "1                     0.10               42\n",
       "2                     1.00              190\n",
       "3                    10.00              315\n",
       "4                   100.00              302"
      ]
     },
     "execution_count": 18,
     "metadata": {},
     "output_type": "execute_result"
    }
   ],
   "source": [
    "df_4"
   ]
  },
  {
   "cell_type": "code",
   "execution_count": 19,
   "id": "6176516a",
   "metadata": {},
   "outputs": [
    {
     "name": "stdout",
     "output_type": "stream",
     "text": [
      "<class 'pandas.core.frame.DataFrame'>\n",
      "RangeIndex: 5 entries, 0 to 4\n",
      "Data columns (total 3 columns):\n",
      " #   Column           Non-Null Count  Dtype  \n",
      "---  ------           --------------  -----  \n",
      " 0   Число протонов   5 non-null      int64  \n",
      " 1   Число нейтронов  5 non-null      int64  \n",
      " 2   ratio            5 non-null      float64\n",
      "dtypes: float64(1), int64(2)\n",
      "memory usage: 248.0 bytes\n"
     ]
    }
   ],
   "source": [
    "df_1.info()"
   ]
  },
  {
   "cell_type": "code",
   "execution_count": 20,
   "id": "00b9dcb4",
   "metadata": {
    "scrolled": false
   },
   "outputs": [
    {
     "data": {
      "text/plain": [
       "<AxesSubplot:xlabel='Толщина коллиматора, см', ylabel='Число нейтронов'>"
      ]
     },
     "execution_count": 20,
     "metadata": {},
     "output_type": "execute_result"
    },
    {
     "data": {
      "image/png": "[encoded data removed]",
      "text/plain": [
       "<Figure size 432x288 with 1 Axes>"
      ]
     },
     "metadata": {
      "needs_background": "light"
     },
     "output_type": "display_data"
    }
   ],
   "source": [
    "seaborn.barplot(x=df_4['Толщина коллиматора, см'], y=df_4['Число нейтронов'])"
   ]
  },
  {
   "cell_type": "markdown",
   "id": "a41a1fec",
   "metadata": {},
   "source": [
    "## 4. Исследование зависимости числа образующихся нейтронов от материала коллиматора"
   ]
  },
  {
   "cell_type": "code",
   "execution_count": 21,
   "id": "cfc0146f",
   "metadata": {},
   "outputs": [],
   "source": [
    "df_5 = pd.read_excel('proton_beam.xlsx', sheet_name='Лист5')"
   ]
  },
  {
   "cell_type": "code",
   "execution_count": 22,
   "id": "a074b41b",
   "metadata": {},
   "outputs": [
    {
     "data": {
      "text/html": [
       "<div>\n",
       "<style scoped>\n",
       "    .dataframe tbody tr th:only-of-type {\n",
       "        vertical-align: middle;\n",
       "    }\n",
       "\n",
       "    .dataframe tbody tr th {\n",
       "        vertical-align: top;\n",
       "    }\n",
       "\n",
       "    .dataframe thead th {\n",
       "        text-align: right;\n",
       "    }\n",
       "</style>\n",
       "<table border=\"1\" class=\"dataframe\">\n",
       "  <thead>\n",
       "    <tr style=\"text-align: right;\">\n",
       "      <th></th>\n",
       "      <th>Материал</th>\n",
       "      <th>Число нейтронов</th>\n",
       "    </tr>\n",
       "  </thead>\n",
       "  <tbody>\n",
       "    <tr>\n",
       "      <th>0</th>\n",
       "      <td>латунь</td>\n",
       "      <td>252</td>\n",
       "    </tr>\n",
       "    <tr>\n",
       "      <th>1</th>\n",
       "      <td>никель</td>\n",
       "      <td>163</td>\n",
       "    </tr>\n",
       "    <tr>\n",
       "      <th>2</th>\n",
       "      <td>железо</td>\n",
       "      <td>226</td>\n",
       "    </tr>\n",
       "    <tr>\n",
       "      <th>3</th>\n",
       "      <td>свинец</td>\n",
       "      <td>455</td>\n",
       "    </tr>\n",
       "    <tr>\n",
       "      <th>4</th>\n",
       "      <td>титан</td>\n",
       "      <td>225</td>\n",
       "    </tr>\n",
       "    <tr>\n",
       "      <th>5</th>\n",
       "      <td>медь</td>\n",
       "      <td>278</td>\n",
       "    </tr>\n",
       "    <tr>\n",
       "      <th>6</th>\n",
       "      <td>алюминий</td>\n",
       "      <td>126</td>\n",
       "    </tr>\n",
       "  </tbody>\n",
       "</table>\n",
       "</div>"
      ],
      "text/plain": [
       "   Материал  Число нейтронов\n",
       "0    латунь              252\n",
       "1    никель              163\n",
       "2    железо              226\n",
       "3    свинец              455\n",
       "4     титан              225\n",
       "5      медь              278\n",
       "6  алюминий              126"
      ]
     },
     "execution_count": 22,
     "metadata": {},
     "output_type": "execute_result"
    }
   ],
   "source": [
    "df_5"
   ]
  },
  {
   "cell_type": "code",
   "execution_count": 23,
   "id": "10db7c1e",
   "metadata": {},
   "outputs": [
    {
     "name": "stdout",
     "output_type": "stream",
     "text": [
      "<class 'pandas.core.frame.DataFrame'>\n",
      "RangeIndex: 7 entries, 0 to 6\n",
      "Data columns (total 2 columns):\n",
      " #   Column           Non-Null Count  Dtype \n",
      "---  ------           --------------  ----- \n",
      " 0   Материал         7 non-null      object\n",
      " 1   Число нейтронов  7 non-null      int64 \n",
      "dtypes: int64(1), object(1)\n",
      "memory usage: 240.0+ bytes\n"
     ]
    }
   ],
   "source": [
    "df_5.info()"
   ]
  },
  {
   "cell_type": "code",
   "execution_count": 24,
   "id": "7f026e3d",
   "metadata": {},
   "outputs": [],
   "source": [
    "df_5 = df_5.sort_values('Число нейтронов')"
   ]
  },
  {
   "cell_type": "code",
   "execution_count": 25,
   "id": "03fc98ab",
   "metadata": {
    "scrolled": false
   },
   "outputs": [
    {
     "data": {
      "text/plain": [
       "<AxesSubplot:xlabel='Материал', ylabel='Число нейтронов'>"
      ]
     },
     "execution_count": 25,
     "metadata": {},
     "output_type": "execute_result"
    },
    {
     "data": {
      "image/png": "[encoded data removed]",
      "text/plain": [
       "<Figure size 432x288 with 1 Axes>"
      ]
     },
     "metadata": {
      "needs_background": "light"
     },
     "output_type": "display_data"
    }
   ],
   "source": [
    "seaborn.barplot(x=df_5['Материал'], y=df_5['Число нейтронов'])"
   ]
  },
  {
   "cell_type": "markdown",
   "id": "3f401401",
   "metadata": {},
   "source": [
    "Характеристики рассматриваемых материалов:"
   ]
  },
  {
   "cell_type": "markdown",
   "id": "ceab5688",
   "metadata": {},
   "source": [
    "<img src=\"Алюминий.JPG\" style=\"width:600px; height:200px\"/>\n",
    "<img src=\"Nickel.JPG\" style=\"width:600px; height:200px\"/>\n",
    "<img src=\"Титан.JPG\" style=\"width:600px; height:200px\"/>\n",
    "<img src=\"Iron.JPG\" style=\"width:600px; height:200px\"/>\n",
    "<img src=\"Brass.JPG\" style=\"width:600px; height:200px\"/>\n",
    "<img src=\"Медь.JPG\" style=\"width:600px; height:200px\"/>\n",
    "<img src=\"Lead.JPG\" style=\"width:600px; height:200px\"/>"
   ]
  },
  {
   "cell_type": "markdown",
   "id": "0d7cf5bb",
   "metadata": {},
   "source": [
    "## 5. Образование различных типов вторичных частиц"
   ]
  },
  {
   "cell_type": "code",
   "execution_count": 26,
   "id": "8adc9d6c",
   "metadata": {},
   "outputs": [],
   "source": [
    "df_6 = pd.read_excel('proton_beam.xlsx', sheet_name='Лист6')"
   ]
  },
  {
   "cell_type": "code",
   "execution_count": 27,
   "id": "910f718a",
   "metadata": {},
   "outputs": [
    {
     "data": {
      "text/html": [
       "<div>\n",
       "<style scoped>\n",
       "    .dataframe tbody tr th:only-of-type {\n",
       "        vertical-align: middle;\n",
       "    }\n",
       "\n",
       "    .dataframe tbody tr th {\n",
       "        vertical-align: top;\n",
       "    }\n",
       "\n",
       "    .dataframe thead th {\n",
       "        text-align: right;\n",
       "    }\n",
       "</style>\n",
       "<table border=\"1\" class=\"dataframe\">\n",
       "  <thead>\n",
       "    <tr style=\"text-align: right;\">\n",
       "      <th></th>\n",
       "      <th>Тип частиц</th>\n",
       "      <th>Число частиц</th>\n",
       "    </tr>\n",
       "  </thead>\n",
       "  <tbody>\n",
       "    <tr>\n",
       "      <th>0</th>\n",
       "      <td>нейтроны</td>\n",
       "      <td>252</td>\n",
       "    </tr>\n",
       "    <tr>\n",
       "      <th>1</th>\n",
       "      <td>гамма</td>\n",
       "      <td>1206</td>\n",
       "    </tr>\n",
       "    <tr>\n",
       "      <th>2</th>\n",
       "      <td>е-</td>\n",
       "      <td>4944</td>\n",
       "    </tr>\n",
       "    <tr>\n",
       "      <th>3</th>\n",
       "      <td>е+</td>\n",
       "      <td>24</td>\n",
       "    </tr>\n",
       "  </tbody>\n",
       "</table>\n",
       "</div>"
      ],
      "text/plain": [
       "  Тип частиц  Число частиц\n",
       "0   нейтроны           252\n",
       "1      гамма          1206\n",
       "2         е-          4944\n",
       "3         е+            24"
      ]
     },
     "execution_count": 27,
     "metadata": {},
     "output_type": "execute_result"
    }
   ],
   "source": [
    "df_6"
   ]
  },
  {
   "cell_type": "code",
   "execution_count": 28,
   "id": "ce1b2fb1",
   "metadata": {},
   "outputs": [
    {
     "name": "stdout",
     "output_type": "stream",
     "text": [
      "<class 'pandas.core.frame.DataFrame'>\n",
      "RangeIndex: 4 entries, 0 to 3\n",
      "Data columns (total 2 columns):\n",
      " #   Column        Non-Null Count  Dtype \n",
      "---  ------        --------------  ----- \n",
      " 0   Тип частиц    4 non-null      object\n",
      " 1   Число частиц  4 non-null      int64 \n",
      "dtypes: int64(1), object(1)\n",
      "memory usage: 192.0+ bytes\n"
     ]
    }
   ],
   "source": [
    "df_6.info()"
   ]
  },
  {
   "cell_type": "code",
   "execution_count": 29,
   "id": "1c6202d0",
   "metadata": {},
   "outputs": [],
   "source": [
    "df_6 = df_6.sort_values('Число частиц')"
   ]
  },
  {
   "cell_type": "code",
   "execution_count": 30,
   "id": "a8e043a9",
   "metadata": {
    "scrolled": false
   },
   "outputs": [
    {
     "data": {
      "text/plain": [
       "<AxesSubplot:xlabel='Тип частиц', ylabel='Число частиц'>"
      ]
     },
     "execution_count": 30,
     "metadata": {},
     "output_type": "execute_result"
    },
    {
     "data": {
      "image/png": "[encoded data removed]",
      "text/plain": [
       "<Figure size 432x288 with 1 Axes>"
      ]
     },
     "metadata": {
      "needs_background": "light"
     },
     "output_type": "display_data"
    }
   ],
   "source": [
    "seaborn.barplot(x=df_6['Тип частиц'], y=df_6['Число частиц'])"
   ]
  },
  {
   "cell_type": "code",
   "execution_count": null,
   "id": "2931743f",
   "metadata": {},
   "outputs": [],
   "source": []
  }
 ],
 "metadata": {
  "kernelspec": {
   "display_name": "Python 3",
   "language": "python",
   "name": "python3"
  },
  "language_info": {
   "codemirror_mode": {
    "name": "ipython",
    "version": 3
   },
   "file_extension": ".py",
   "mimetype": "text/x-python",
   "name": "python",
   "nbconvert_exporter": "python",
   "pygments_lexer": "ipython3",
   "version": "3.8.8"
  }
 },
 "nbformat": 4,
 "nbformat_minor": 5
}
